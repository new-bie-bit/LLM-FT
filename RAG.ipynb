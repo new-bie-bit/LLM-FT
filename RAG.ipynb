{
 "cells": [
  {
   "cell_type": "code",
   "execution_count": 8,
   "id": "b1b6e964",
   "metadata": {},
   "outputs": [
    {
     "name": "stdout",
     "output_type": "stream",
     "text": [
      "Status Code 200\n",
      "JSON Response  {'choices': [{'finish_reason': 'stop', 'index': 0, 'message': {'content': '你好👋！我是人工智能助手智谱清言（ChatGLM），很高兴见到你，欢迎问我任何问题。', 'role': 'assistant'}}], 'created': 1744719776, 'id': '20250415202256d42142d3a41b40e7', 'model': 'glm-3-turbo', 'request_id': '20250415202256d42142d3a41b40e7', 'usage': {'completion_tokens': 30, 'prompt_tokens': 6, 'total_tokens': 36}}\n"
     ]
    }
   ],
   "source": [
    "import time\n",
    "import jwt\n",
    "import requests\n",
    "\n",
    "# 实际KEY，过期时间\n",
    "def generate_token(apikey: str, exp_seconds: int):\n",
    "    try:\n",
    "        id, secret = apikey.split(\".\")\n",
    "    except Exception as e:\n",
    "        raise Exception(\"invalid apikey\", e)\n",
    "\n",
    "    payload = {\n",
    "        \"api_key\": id,\n",
    "        \"exp\": int(round(time.time() * 1000)) + exp_seconds * 1000,\n",
    "        \"timestamp\": int(round(time.time() * 1000)),\n",
    "    }\n",
    "    return jwt.encode(\n",
    "        payload,\n",
    "        secret,\n",
    "        algorithm=\"HS256\",\n",
    "        headers={\"alg\": \"HS256\", \"sign_type\": \"SIGN\"},\n",
    "    )\n",
    "\n",
    "url = \"https://open.bigmodel.cn/api/paas/v4/chat/completions\"\n",
    "headers = {\n",
    "  'Content-Type': 'application/json',\n",
    "  'Authorization': generate_token(\"e0ded7a3bce845c7ae493325cf5d9452.Ka2nmyhiI5nut7og\", 1000)\n",
    "}\n",
    "\n",
    "data = {\n",
    "    \"model\": \"glm-3-turbo\",\n",
    "    \"messages\": [{\"role\": \"user\", \"content\": \"\"\"你好\"\"\"}]\n",
    "}\n",
    "\n",
    "response = requests.post(url, headers=headers, json=data)\n",
    "\n",
    "print(\"Status Code\", response.status_code)\n",
    "print(\"JSON Response \", response.json())"
   ]
  },
  {
   "cell_type": "code",
   "execution_count": null,
   "id": "b8c257e5",
   "metadata": {},
   "outputs": [],
   "source": []
  }
 ],
 "metadata": {
  "language_info": {
   "name": "python"
  }
 },
 "nbformat": 4,
 "nbformat_minor": 5
}
